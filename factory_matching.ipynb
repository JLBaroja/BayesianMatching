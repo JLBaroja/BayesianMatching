{
 "cells": [
  {
   "cell_type": "code",
   "execution_count": 138,
   "id": "a0182783",
   "metadata": {},
   "outputs": [],
   "source": [
    "rm(list=ls())\n",
    "\n",
    "# Code should be ready to work with:\n",
    "\n",
    "### MATCHING DATA\n",
    "id_individuals <- rep(1:6,each=20)\n",
    "n_individuals <- length(unique(id_individuals))\n",
    "id_sessions <- rep(1:20,6)\n",
    "n_obs <- length(id_individuals)\n",
    "n_sessions <- length(unique(id_sessions))# Assume same number of sessions acroos birds?? What about stable??\n",
    "## Count data\n",
    "Bl <- rpois(n=n_individuals*n_sessions,60)# Behavior (response counts) left\n",
    "Br <- rpois(n=n_individuals*n_sessions,60)# Behavior right\n",
    "Wl <- rpois(n=n_individuals*n_sessions,10)# Rewards left\n",
    "Wr <- rpois(n=n_individuals*n_sessions,10)# Rewards right\n",
    "observed_counts <- c('id_individuals','id_sessions',\n",
    "                     'n_obs','n_sessions','n_individuals',\n",
    "                       'Bl','Br','Wl','Wr')\n",
    "## Binary data\n",
    "#chosen_option\n",
    "#rewarded"
   ]
  },
  {
   "cell_type": "code",
   "execution_count": 139,
   "id": "4b400f23",
   "metadata": {},
   "outputs": [
    {
     "data": {
      "text/html": [
       "<table class=\"dataframe\">\n",
       "<caption>A data.frame: 3 × 6</caption>\n",
       "<thead>\n",
       "\t<tr><th></th><th scope=col>id_individuals</th><th scope=col>id_sessions</th><th scope=col>Bl</th><th scope=col>Br</th><th scope=col>Wl</th><th scope=col>Wr</th></tr>\n",
       "\t<tr><th></th><th scope=col>&lt;int&gt;</th><th scope=col>&lt;int&gt;</th><th scope=col>&lt;int&gt;</th><th scope=col>&lt;int&gt;</th><th scope=col>&lt;int&gt;</th><th scope=col>&lt;int&gt;</th></tr>\n",
       "</thead>\n",
       "<tbody>\n",
       "\t<tr><th scope=row>1</th><td>1</td><td>1</td><td>58</td><td>66</td><td>16</td><td>12</td></tr>\n",
       "\t<tr><th scope=row>2</th><td>1</td><td>2</td><td>57</td><td>53</td><td>11</td><td>13</td></tr>\n",
       "\t<tr><th scope=row>3</th><td>1</td><td>3</td><td>58</td><td>62</td><td>15</td><td>13</td></tr>\n",
       "</tbody>\n",
       "</table>\n"
      ],
      "text/latex": [
       "A data.frame: 3 × 6\n",
       "\\begin{tabular}{r|llllll}\n",
       "  & id\\_individuals & id\\_sessions & Bl & Br & Wl & Wr\\\\\n",
       "  & <int> & <int> & <int> & <int> & <int> & <int>\\\\\n",
       "\\hline\n",
       "\t1 & 1 & 1 & 58 & 66 & 16 & 12\\\\\n",
       "\t2 & 1 & 2 & 57 & 53 & 11 & 13\\\\\n",
       "\t3 & 1 & 3 & 58 & 62 & 15 & 13\\\\\n",
       "\\end{tabular}\n"
      ],
      "text/markdown": [
       "\n",
       "A data.frame: 3 × 6\n",
       "\n",
       "| <!--/--> | id_individuals &lt;int&gt; | id_sessions &lt;int&gt; | Bl &lt;int&gt; | Br &lt;int&gt; | Wl &lt;int&gt; | Wr &lt;int&gt; |\n",
       "|---|---|---|---|---|---|---|\n",
       "| 1 | 1 | 1 | 58 | 66 | 16 | 12 |\n",
       "| 2 | 1 | 2 | 57 | 53 | 11 | 13 |\n",
       "| 3 | 1 | 3 | 58 | 62 | 15 | 13 |\n",
       "\n"
      ],
      "text/plain": [
       "  id_individuals id_sessions Bl Br Wl Wr\n",
       "1 1              1           58 66 16 12\n",
       "2 1              2           57 53 11 13\n",
       "3 1              3           58 62 15 13"
      ]
     },
     "metadata": {},
     "output_type": "display_data"
    }
   ],
   "source": [
    "head(data.frame(id_individuals,id_sessions,Bl,Br,Wl,Wr),3)"
   ]
  },
  {
   "cell_type": "code",
   "execution_count": 140,
   "id": "7d6ee21b",
   "metadata": {},
   "outputs": [],
   "source": [
    "### PREDICTOR DATA\n",
    "X <- array(dim=c(n_obs,3)) # Desing matrix n_obs x n_pred; mixing obs from all ids, long format\n",
    "X[,1] <- 1; X[,2] <- rnorm(n_obs,0,1); X[,3] <- rnorm(n_obs,2,1) \n",
    "n_pred <- ncol(X)\n",
    "zeros_pred <- rep(0,n_pred) # Prior coefficients\n",
    "I_pred <- diag(1,ncol=n_pred,nrow=n_pred) # Prior coefficients\n",
    "zeros_errors <- rep(0,n_sessions) # Prior errors\n",
    "I_errors <- diag(1,ncol=n_sessions,nrow=n_sessions) # Prior errors  \n",
    "observed_explanatory <- c('X','n_pred',\n",
    "                             'zeros_pred','I_pred',\n",
    "                             'zeros_errors','I_errors')"
   ]
  },
  {
   "cell_type": "code",
   "execution_count": 141,
   "id": "8f03ee7e",
   "metadata": {},
   "outputs": [
    {
     "data": {
      "text/html": [
       "3"
      ],
      "text/latex": [
       "3"
      ],
      "text/markdown": [
       "3"
      ],
      "text/plain": [
       "[1] 3"
      ]
     },
     "metadata": {},
     "output_type": "display_data"
    },
    {
     "data": {
      "text/html": [
       "<style>\n",
       ".list-inline {list-style: none; margin:0; padding: 0}\n",
       ".list-inline>li {display: inline-block}\n",
       ".list-inline>li:not(:last-child)::after {content: \"\\00b7\"; padding: 0 .5ex}\n",
       "</style>\n",
       "<ol class=list-inline><li>3</li><li>3</li></ol>\n"
      ],
      "text/latex": [
       "\\begin{enumerate*}\n",
       "\\item 3\n",
       "\\item 3\n",
       "\\end{enumerate*}\n"
      ],
      "text/markdown": [
       "1. 3\n",
       "2. 3\n",
       "\n",
       "\n"
      ],
      "text/plain": [
       "[1] 3 3"
      ]
     },
     "metadata": {},
     "output_type": "display_data"
    },
    {
     "data": {
      "text/html": [
       "20"
      ],
      "text/latex": [
       "20"
      ],
      "text/markdown": [
       "20"
      ],
      "text/plain": [
       "[1] 20"
      ]
     },
     "metadata": {},
     "output_type": "display_data"
    },
    {
     "data": {
      "text/html": [
       "<style>\n",
       ".list-inline {list-style: none; margin:0; padding: 0}\n",
       ".list-inline>li {display: inline-block}\n",
       ".list-inline>li:not(:last-child)::after {content: \"\\00b7\"; padding: 0 .5ex}\n",
       "</style>\n",
       "<ol class=list-inline><li>20</li><li>20</li></ol>\n"
      ],
      "text/latex": [
       "\\begin{enumerate*}\n",
       "\\item 20\n",
       "\\item 20\n",
       "\\end{enumerate*}\n"
      ],
      "text/markdown": [
       "1. 20\n",
       "2. 20\n",
       "\n",
       "\n"
      ],
      "text/plain": [
       "[1] 20 20"
      ]
     },
     "metadata": {},
     "output_type": "display_data"
    }
   ],
   "source": [
    "length(zeros_pred)\n",
    "dim(I_pred)\n",
    "length(zeros_errors)\n",
    "dim(I_errors)"
   ]
  },
  {
   "cell_type": "code",
   "execution_count": 142,
   "id": "b29d3193",
   "metadata": {},
   "outputs": [],
   "source": [
    "explanatory <- ' # model start\n",
    "### Explanatory model\n",
    "xi_a ~ dmnorm(zeros_pred,0.01*I_pred)\n",
    "xi_b ~ dmnorm(zeros_pred,0.01*I_pred)\n",
    "#sigma_e_a ~ dunif(0,50)\n",
    "#sigma_e_b ~ dunif(0,50)\n",
    "for(b in 1:n_individuals){\n",
    "    epsilon_a[b,1:n_sessions] ~ dmnorm(zeros_errors,\n",
    "                                       I_errors) # Explanatory; unobserved sessions not updated?\n",
    "    epsilon_b[b,1:n_sessions] ~ dmnorm(zeros_errors,\n",
    "                                       I_errors) # Explanatory\n",
    "}\n",
    "for(i in 1:n_obs){\n",
    "#    alpha[birds[i],sessions[i]] <- xi0_a + xi1_a*weight[i] + epsilon_a[birds[i],sessions[i]]\n",
    "#    beta[birds[i],sessions[i]] <- xi0_b + xi1_b*weight[i] + epsilon_b[birds[i],sessions[i]]\n",
    "    eta_a[i] <- X[i,]%*%xi_a\n",
    "    eta_b[i] <- X[i,]%*%xi_b\n",
    "    alpha[id_individuals[i],id_sessions[i]] <- eta_a[i] + epsilon_a[id_individuals[i],id_sessions[i]]\n",
    "    beta[id_individuals[i],id_sessions[i]] <- eta_b[i] + epsilon_b[id_individuals[i],id_sessions[i]]\n",
    "}\n",
    "# model end'\n",
    " \n",
    "matching <- ' # model start\n",
    "### Core matching model\n",
    "shape_tau_prior <- 2\n",
    "rate_tau_prior <- 1\n",
    "for(b in 1:n_individuals){\n",
    "    tau[b]   ~ dgamma(shape_tau_prior, rate_tau_prior)T(0.01,) # Matching COUNT model\n",
    "}\n",
    "\n",
    "for(i in 1:n_obs){\n",
    "    lambda_Br[i] ~ dlnorm( alpha[id_individuals[i],id_sessions[i]]/2 \n",
    "                          + beta[id_individuals[i],id_sessions[i]] \n",
    "                          * log(Wr[i])/2, \n",
    "                          tau[id_individuals[i]])\n",
    "    lambda_Bl[i] ~ dlnorm(-alpha[id_individuals[i],id_sessions[i]]/2 \n",
    "                          - beta[id_individuals[i],id_sessions[i]] \n",
    "                          * log(Wl[i])/2, \n",
    "                          tau[id_individuals[i]])\n",
    "    Br[i] ~ dpois(lambda_Br[i])\n",
    "    Bl[i] ~ dpois(lambda_Bl[i])\n",
    "    # Posterior predictive\n",
    "    Br_post[i] ~ dpois(lambda_Br[i])\n",
    "    Bl_post[i] ~ dpois(lambda_Bl[i])\n",
    "}\n",
    "# model end'\n",
    "\n",
    "write(paste('model{',explanatory,matching,'}',sep='\\n'),'factory_matching.bug')"
   ]
  },
  {
   "cell_type": "code",
   "execution_count": 143,
   "id": "9ed71d70",
   "metadata": {},
   "outputs": [],
   "source": [
    "unobserved_explanatory <- c('xi_a','xi_b',\n",
    "                          #  'sigma_e_a','sigma_e_b',\n",
    "                            'eta_a','eta_b',\n",
    "                            'epsilon_a','epsilon_b')\n",
    "unobserved_counts <- c('alpha', 'beta', 'tau',\n",
    "                       'lambda_Br', 'lambda_Bl','Br_post','Bl_post')\n",
    "\n",
    "observed <- list(c(observed_counts,observed_explanatory))[[1]]\n",
    "observed <- list(c(observed_counts,observed_explanatory))[[1]]\n",
    "unobserved <- c(unobserved_explanatory,unobserved_counts)"
   ]
  },
  {
   "cell_type": "code",
   "execution_count": 144,
   "id": "3ebea6ae",
   "metadata": {},
   "outputs": [
    {
     "name": "stderr",
     "output_type": "stream",
     "text": [
      "Warning message in jags.model(model.file, data = data, inits = init.values, n.chains = n.chains, :\n",
      "“Unused variable \"n_pred\" in data”\n"
     ]
    },
    {
     "name": "stdout",
     "output_type": "stream",
     "text": [
      "Compiling model graph\n",
      "   Resolving undeclared variables\n",
      "   Allocating nodes\n",
      "Graph information:\n",
      "   Observed stochastic nodes: 240\n",
      "   Unobserved stochastic nodes: 500\n",
      "   Total graph size: 3939\n",
      "\n",
      "Initializing model\n",
      "\n"
     ]
    }
   ],
   "source": [
    "library('R2jags')\n",
    "bayes <- jags(data = observed,\n",
    "             parameters.to.save = unobserved,\n",
    "             model.file = 'factory_matching.bug')"
   ]
  }
 ],
 "metadata": {
  "kernelspec": {
   "display_name": "R",
   "language": "R",
   "name": "r"
  },
  "language_info": {
   "codemirror_mode": "r",
   "file_extension": ".r",
   "mimetype": "text/x-r-source",
   "name": "R",
   "pygments_lexer": "r",
   "version": "4.2.2"
  }
 },
 "nbformat": 4,
 "nbformat_minor": 5
}
